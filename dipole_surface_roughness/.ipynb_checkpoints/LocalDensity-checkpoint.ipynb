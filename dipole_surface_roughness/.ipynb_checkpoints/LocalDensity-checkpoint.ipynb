{
 "cells": [
  {
   "cell_type": "code",
   "execution_count": 1,
   "metadata": {},
   "outputs": [],
   "source": [
    "%matplotlib notebook\n",
    "%config Completer.use_jedi = False\n",
    "import numpy as np\n",
    "import freud\n",
    "import lammps_reader as lammps\n",
    "import matplotlib.pyplot as plt\n",
    "from mpl_toolkits.mplot3d import Axes3D"
   ]
  },
  {
   "cell_type": "code",
   "execution_count": 3,
   "metadata": {},
   "outputs": [],
   "source": [
    "traj = lammps.lammpstraj.pandas_reader(fname='final.lammpstrj')"
   ]
  },
  {
   "cell_type": "code",
   "execution_count": 4,
   "metadata": {},
   "outputs": [
    {
     "ename": "KeyError",
     "evalue": "920500",
     "output_type": "error",
     "traceback": [
      "\u001b[0;31m---------------------------------------------------------------------------\u001b[0m",
      "\u001b[0;31mKeyError\u001b[0m                                  Traceback (most recent call last)",
      "\u001b[0;32m<ipython-input-4-658174970b94>\u001b[0m in \u001b[0;36m<module>\u001b[0;34m\u001b[0m\n\u001b[0;32m----> 1\u001b[0;31m \u001b[0mbox\u001b[0m \u001b[0;34m=\u001b[0m \u001b[0mtraj\u001b[0m\u001b[0;34m[\u001b[0m\u001b[0;36m1\u001b[0m\u001b[0;34m]\u001b[0m\u001b[0;34m[\u001b[0m\u001b[0;36m920500\u001b[0m\u001b[0;34m]\u001b[0m\u001b[0;34m\u001b[0m\u001b[0;34m\u001b[0m\u001b[0m\n\u001b[0m\u001b[1;32m      2\u001b[0m \u001b[0mframe\u001b[0m \u001b[0;34m=\u001b[0m \u001b[0mtraj\u001b[0m\u001b[0;34m[\u001b[0m\u001b[0;36m0\u001b[0m\u001b[0;34m]\u001b[0m\u001b[0;34m.\u001b[0m\u001b[0mloc\u001b[0m\u001b[0;34m[\u001b[0m\u001b[0;36m920500\u001b[0m\u001b[0;34m]\u001b[0m\u001b[0;34m\u001b[0m\u001b[0;34m\u001b[0m\u001b[0m\n\u001b[1;32m      3\u001b[0m box = freud.box.Box(box[0,1] - box[0,0],\n\u001b[1;32m      4\u001b[0m                     \u001b[0mbox\u001b[0m\u001b[0;34m[\u001b[0m\u001b[0;36m1\u001b[0m\u001b[0;34m,\u001b[0m\u001b[0;36m1\u001b[0m\u001b[0;34m]\u001b[0m \u001b[0;34m-\u001b[0m \u001b[0mbox\u001b[0m\u001b[0;34m[\u001b[0m\u001b[0;36m1\u001b[0m\u001b[0;34m,\u001b[0m\u001b[0;36m0\u001b[0m\u001b[0;34m]\u001b[0m\u001b[0;34m,\u001b[0m\u001b[0;34m\u001b[0m\u001b[0;34m\u001b[0m\u001b[0m\n\u001b[1;32m      5\u001b[0m                     box[2,1] - box[2,0])\n",
      "\u001b[0;31mKeyError\u001b[0m: 920500"
     ]
    }
   ],
   "source": [
    "box = traj[1][920500]\n",
    "frame = traj[0].loc[920500]\n",
    "box = freud.box.Box(box[0,1] - box[0,0],\n",
    "                    box[1,1] - box[1,0],\n",
    "                    box[2,1] - box[2,0])"
   ]
  },
  {
   "cell_type": "code",
   "execution_count": null,
   "metadata": {},
   "outputs": [],
   "source": [
    "frame"
   ]
  },
  {
   "cell_type": "code",
   "execution_count": null,
   "metadata": {},
   "outputs": [],
   "source": [
    "si = frame.loc[frame['type'] == 1]\n",
    "o = frame.loc[frame['type'] == 2]"
   ]
  },
  {
   "cell_type": "code",
   "execution_count": 5,
   "metadata": {},
   "outputs": [
    {
     "ename": "NameError",
     "evalue": "name 'box' is not defined",
     "output_type": "error",
     "traceback": [
      "\u001b[0;31m---------------------------------------------------------------------------\u001b[0m",
      "\u001b[0;31mNameError\u001b[0m                                 Traceback (most recent call last)",
      "\u001b[0;32m<ipython-input-5-1f976a96d70f>\u001b[0m in \u001b[0;36m<module>\u001b[0;34m\u001b[0m\n\u001b[0;32m----> 1\u001b[0;31m \u001b[0mnlist\u001b[0m \u001b[0;34m=\u001b[0m \u001b[0mfreud\u001b[0m\u001b[0;34m.\u001b[0m\u001b[0mlocality\u001b[0m\u001b[0;34m.\u001b[0m\u001b[0mAABBQuery\u001b[0m\u001b[0;34m(\u001b[0m\u001b[0mbox\u001b[0m\u001b[0;34m,\u001b[0m \u001b[0mframe\u001b[0m\u001b[0;34m.\u001b[0m\u001b[0mloc\u001b[0m\u001b[0;34m[\u001b[0m\u001b[0;34m:\u001b[0m\u001b[0;34m,\u001b[0m\u001b[0;34m[\u001b[0m\u001b[0;34m'x'\u001b[0m\u001b[0;34m,\u001b[0m\u001b[0;34m'y'\u001b[0m\u001b[0;34m,\u001b[0m\u001b[0;34m'z'\u001b[0m\u001b[0;34m]\u001b[0m\u001b[0;34m]\u001b[0m\u001b[0;34m)\u001b[0m\u001b[0;34m\u001b[0m\u001b[0;34m\u001b[0m\u001b[0m\n\u001b[0m",
      "\u001b[0;31mNameError\u001b[0m: name 'box' is not defined"
     ]
    }
   ],
   "source": [
    "nlist = freud.locality.AABBQuery(box, frame.loc[:,['x','y','z']])"
   ]
  },
  {
   "cell_type": "code",
   "execution_count": null,
   "metadata": {},
   "outputs": [],
   "source": [
    "nlist.box"
   ]
  },
  {
   "cell_type": "code",
   "execution_count": null,
   "metadata": {},
   "outputs": [],
   "source": [
    "ngrid = 10\n",
    "X,Y,Z = np.meshgrid(np.linspace(-11,11,ngrid), \n",
    "                    np.linspace(-11,11,ngrid), \n",
    "                    np.linspace(-11,11,ngrid))\n",
    "x = X.flatten()\n",
    "y = Y.flatten()\n",
    "z = Z.flatten()\n",
    "grid = np.vstack((np.vstack((x,y)),z)).T"
   ]
  },
  {
   "cell_type": "code",
   "execution_count": null,
   "metadata": {},
   "outputs": [],
   "source": [
    "localdens = freud.density.LocalDensity(8., 0)\n",
    "silocal = freud.density.LocalDensity(6.2, 0)\n",
    "olocal = freud.density.LocalDensity(6., 0)\n",
    "rdf = freud.density.RDF(30,10)\n",
    "ordf = freud.density.RDF(30,10)\n",
    "sirdf = freud.density.RDF(30,10)\n",
    "\n",
    "rdf.compute(nlist)\n",
    "ordf.compute(system=(nlist.box, o.loc[:,['x','y','z']]), query_points=o.loc[:,['x','y','z']])\n",
    "sirdf.compute(system=(nlist.box, si.loc[:,['x','y','z']]), query_points=si.loc[:,['x','y','z']])\n",
    "localdens.compute(nlist)\n",
    "silocal.compute(nlist, query_points=si.loc[:,['x','y','z']])\n",
    "olocal.compute(nlist, query_points=o.loc[:,['x','y','z']])\n",
    "ordf = ordf.rdf.copy()\n",
    "ordf[0] = 0\n",
    "sirdf = sirdf.rdf.copy()\n",
    "sirdf[0] = 0"
   ]
  },
  {
   "cell_type": "code",
   "execution_count": null,
   "metadata": {},
   "outputs": [],
   "source": [
    "fig, ax = plt.subplots(3, 1, figsize=(6,12))\n",
    "ax[0].plot(rdf.bin_centers, rdf.rdf, '-k')\n",
    "ax[1].plot(rdf.bin_centers, ordf, '-k')\n",
    "ax[2].plot(rdf.bin_centers, sirdf, '-k')"
   ]
  },
  {
   "cell_type": "code",
   "execution_count": null,
   "metadata": {},
   "outputs": [],
   "source": [
    "ocutoff = 0.06\n",
    "sicutoff = 0.057\n",
    "cutoff = 0.055\n",
    "surfaces = nlist.points[localdens.density < cutoff]\n",
    "top_surf = surfaces[surfaces[:,2] > 0.0]\n",
    "bottom_surf = surfaces[surfaces[:,2] < 0.0]"
   ]
  },
  {
   "cell_type": "code",
   "execution_count": null,
   "metadata": {
    "scrolled": false
   },
   "outputs": [],
   "source": [
    "fig = plt.figure(figsize=(8,8))\n",
    "ax = fig.add_subplot(111, projection='3d')\n",
    "# ax.scatter(grid[:,0], grid[:,1], grid[:,2], c=localdens.density, depthshade=False)\n",
    "ax.scatter(nlist.points[:,0], nlist.points[:,1], nlist.points[:,2], c=localdens.density,\n",
    "          depthshade=False)\n",
    "ax.plot_trisurf(top_surf[:,0],top_surf[:,1],top_surf[:,2],color='r')\n",
    "ax.plot_trisurf(bottom_surf[:,0],bottom_surf[:,1],bottom_surf[:,2],color='r')"
   ]
  },
  {
   "cell_type": "code",
   "execution_count": null,
   "metadata": {
    "scrolled": false
   },
   "outputs": [],
   "source": [
    "fig = plt.figure(figsize=(8,8))\n",
    "ax = fig.add_subplot(111, projection='3d')\n",
    "# ax.scatter(grid[:,0], grid[:,1], grid[:,2], c=localdens.density, depthshade=False)\n",
    "ax.scatter(si.loc[silocal.density < sicutoff,'x'], \n",
    "           si.loc[silocal.density < sicutoff,'y'], \n",
    "           si.loc[silocal.density < sicutoff,'z'], \n",
    "           c=silocal.density[silocal.density < sicutoff], cmap='inferno',\n",
    "          depthshade=False)\n",
    "ax.scatter(o.loc[olocal.density < ocutoff,'x'], \n",
    "           o.loc[olocal.density < ocutoff,'y'], \n",
    "           o.loc[olocal.density < ocutoff,'z'], \n",
    "           c=olocal.density[olocal.density < ocutoff], cmap='inferno',\n",
    "          depthshade=False)\n",
    "#ax.plot_trisurf(top_surf[:,0],top_surf[:,1],top_surf[:,2],color='r')\n",
    "#ax.plot_trisurf(bottom_surf[:,0],bottom_surf[:,1],bottom_surf[:,2],color='r')"
   ]
  },
  {
   "cell_type": "code",
   "execution_count": null,
   "metadata": {},
   "outputs": [],
   "source": [
    "fig, ax = plt.subplots(3, 1, figsize=(6,6))\n",
    "ax[0].hist(localdens.density, bins=20)\n",
    "ax[1].hist(silocal.density, bins=20)\n",
    "ax[2].hist(olocal.density, bins=20)"
   ]
  },
  {
   "cell_type": "code",
   "execution_count": null,
   "metadata": {},
   "outputs": [],
   "source": []
  }
 ],
 "metadata": {
  "kernelspec": {
   "display_name": "Python 3",
   "language": "python",
   "name": "python3"
  },
  "language_info": {
   "codemirror_mode": {
    "name": "ipython",
    "version": 3
   },
   "file_extension": ".py",
   "mimetype": "text/x-python",
   "name": "python",
   "nbconvert_exporter": "python",
   "pygments_lexer": "ipython3",
   "version": "3.8.5"
  }
 },
 "nbformat": 4,
 "nbformat_minor": 2
}
